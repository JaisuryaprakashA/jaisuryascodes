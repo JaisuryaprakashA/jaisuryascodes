{
  "nbformat": 4,
  "nbformat_minor": 0,
  "metadata": {
    "colab": {
      "provenance": [],
      "include_colab_link": true
    },
    "kernelspec": {
      "name": "python3",
      "display_name": "Python 3"
    },
    "language_info": {
      "name": "python"
    }
  },
  "cells": [
    {
      "cell_type": "markdown",
      "metadata": {
        "id": "view-in-github",
        "colab_type": "text"
      },
      "source": [
        "<a href=\"https://colab.research.google.com/github/JaisuryaprakashA/jaisuryascodes/blob/main/churn%20prediction.ipynb\" target=\"_parent\"><img src=\"https://colab.research.google.com/assets/colab-badge.svg\" alt=\"Open In Colab\"/></a>"
      ]
    },
    {
      "cell_type": "code",
      "execution_count": null,
      "metadata": {
        "id": "BRDdrVGC8I-d"
      },
      "outputs": [],
      "source": [
        "import numpy as np\n",
        "import pandas as pd\n",
        "from sklearn.model_selection import train_test_split\n",
        "from sklearn.preprocessing import LabelEncoder, StandardScaler\n",
        "from sklearn.linear_model import LogisticRegression\n",
        "from sklearn.metrics import accuracy_score, classification_report, confusion_matrix\n",
        "import matplotlib.pyplot as plt\n",
        "import matplotlib.pyplot as plt\n",
        "import seaborn as sns\n",
        "from collections import Counter\n",
        "from sklearn.model_selection import train_test_split\n",
        "from sklearn.preprocessing import LabelEncoder, MinMaxScaler\n",
        "from sklearn.metrics import confusion_matrix, classification_report\n",
        "from sklearn.ensemble import RandomForestClassifier\n",
        "from sklearn.metrics import accuracy_score, roc_auc_score, precision_score, f1_score"
      ]
    },
    {
      "cell_type": "code",
      "source": [],
      "metadata": {
        "id": "v-m-VUhUYixL"
      },
      "execution_count": null,
      "outputs": []
    },
    {
      "cell_type": "code",
      "source": [],
      "metadata": {
        "id": "HjCamcXDYjn7"
      },
      "execution_count": null,
      "outputs": []
    },
    {
      "cell_type": "code",
      "source": [],
      "metadata": {
        "id": "aRQpTFwGWi9C"
      },
      "execution_count": null,
      "outputs": []
    },
    {
      "cell_type": "code",
      "source": [
        "# Load the dataset\n",
        "data = pd.read_csv('/content/churn.csv')"
      ],
      "metadata": {
        "id": "zcod56gF8RHV"
      },
      "execution_count": null,
      "outputs": []
    },
    {
      "cell_type": "code",
      "source": [
        "data.head"
      ],
      "metadata": {
        "id": "tiE4azDlBJMc"
      },
      "execution_count": null,
      "outputs": []
    },
    {
      "cell_type": "code",
      "source": [
        "data.isnull().sum()"
      ],
      "metadata": {
        "id": "pVfRCwsqBJIm"
      },
      "execution_count": null,
      "outputs": []
    },
    {
      "cell_type": "code",
      "source": [
        "data.info"
      ],
      "metadata": {
        "id": "U2BLyXsCBJEs"
      },
      "execution_count": null,
      "outputs": []
    },
    {
      "cell_type": "code",
      "source": [
        "data.sum"
      ],
      "metadata": {
        "id": "O2JpRvPWBJA3"
      },
      "execution_count": null,
      "outputs": []
    },
    {
      "cell_type": "code",
      "source": [
        "data.describe"
      ],
      "metadata": {
        "id": "jQdKreA5BI8e"
      },
      "execution_count": null,
      "outputs": []
    },
    {
      "cell_type": "code",
      "source": [
        "data.duplicated"
      ],
      "metadata": {
        "id": "jNw7NtERBI4h"
      },
      "execution_count": null,
      "outputs": []
    },
    {
      "cell_type": "code",
      "source": [
        "#will drop the unnecessary columns:\n",
        "data.drop(['RowNumber', 'CustomerId', 'Surname'], axis = 1, inplace = True)\n",
        "data.head(10)"
      ],
      "metadata": {
        "id": "WeteskqlGn27"
      },
      "execution_count": null,
      "outputs": []
    },
    {
      "cell_type": "code",
      "source": [
        "#plotting histogram grid:\n",
        "data.hist(figsize = (15,15))\n",
        "plt.show()"
      ],
      "metadata": {
        "id": "Ut3b3Q2tBI1K"
      },
      "execution_count": null,
      "outputs": []
    },
    {
      "cell_type": "code",
      "source": [
        "numeric_df = list(data.select_dtypes(['int64', 'float64']).columns)\n",
        "for i in numeric_df:\n",
        "    sns.distplot(data[i])\n",
        "    plt.show()"
      ],
      "metadata": {
        "id": "jUugu1esBIj-"
      },
      "execution_count": null,
      "outputs": []
    },
    {
      "cell_type": "code",
      "source": [
        "#Bar plot for gender:\n",
        "plt.figure(figsize= (3,3))\n",
        "data['Gender'].value_counts().plot.bar(color= ['m', 'y'])\n",
        "plt.xlabel('Gender')\n",
        "plt.ylabel('Count')\n",
        "plt.xticks(rotation = 0)\n",
        "plt.show()\n",
        "\n",
        "Counter(data.Gender)"
      ],
      "metadata": {
        "id": "r4yK6u6CBIRa"
      },
      "execution_count": null,
      "outputs": []
    },
    {
      "cell_type": "code",
      "source": [
        "#bar plot for geography:\n",
        "\n",
        "plt.figure(figsize = (6, 3))\n",
        "data['Geography'].value_counts().plot.bar(color = ['m','b','g'])\n",
        "plt.xlabel('Geography')\n",
        "plt.ylabel('Count')\n",
        "plt.xticks(rotation = 0)\n",
        "plt.show()\n",
        "\n",
        "#display the count of each class:\n",
        "Counter(data.Geography)"
      ],
      "metadata": {
        "id": "_KJE81Q3Hcgz"
      },
      "execution_count": null,
      "outputs": []
    },
    {
      "cell_type": "code",
      "source": [
        "# Segment \"Exited\" by gender and display the frequency and percentage within each class:\n",
        "\n",
        "grouped = data.groupby('Gender')['Exited'].agg(Count = 'value_counts')\n",
        "grouped\n",
        "\n",
        "# Reorganize dataframe for plotting count:\n",
        "datagc = grouped\n",
        "datagc = datagc.pivot_table(values = 'Count', index = 'Gender', columns = ['Exited'])\n",
        "datagc\n",
        "\n",
        "# Calculate percentage within each class:\n",
        "datagp = grouped.groupby(level=[0]).apply(lambda i: round(i * 100 / i.sum(), 2))\n",
        "datagp.rename(columns={'Count': 'Percentage'}, inplace=True)\n",
        "datagp\n",
        "\n",
        "# Reorganize dataframe for plotting percentage:\n",
        "datagp = datagp.pivot_table(values = 'Percentage', index = 'Gender', columns = ['Exited'])\n",
        "datagp\n",
        "\n",
        "# Churn distribution by gender:\n",
        "\n",
        "labels= ['Stays', 'Exits']\n",
        "\n",
        "fig, (ax1, ax2) = plt.subplots(1, 2, figsize=(12, 4))\n",
        "\n",
        "datagc.plot(kind='bar',\n",
        "          color=['g', 'r'],\n",
        "          rot=0,\n",
        "          ax=ax1)\n",
        "ax1.legend(labels)\n",
        "ax1.set_title('Churn Risk per Gender- Count', fontsize=14, pad=10)\n",
        "ax1.set_ylabel('Count',size=12)\n",
        "ax1.set_xlabel('Gender', size=12)\n",
        "\n",
        "\n",
        "datagp.plot(kind='bar',\n",
        "          color=['g', 'r'],\n",
        "          rot=0,\n",
        "          ax=ax2)\n",
        "ax2.legend(labels)\n",
        "ax2.set_title('Churn Risk per Gender- Percentage', fontsize=14, pad=10)\n",
        "ax2.set_ylabel('Percentage',size=12)\n",
        "ax2.set_xlabel('Gender', size=12)\n",
        "\n",
        "plt.show()"
      ],
      "metadata": {
        "id": "UkefBDn2Jkjq"
      },
      "execution_count": null,
      "outputs": []
    },
    {
      "cell_type": "code",
      "source": [
        "# Count the number of \"Stays\" and \"Exits\"\n",
        "exit_counts = data['Exited'].value_counts()\n",
        "\n",
        "# Create a bar chart\n",
        "exit_counts.plot(kind='bar', color=['green', 'red'])\n",
        "\n",
        "# Add labels and title\n",
        "plt.title('Churn Distribution (Stays vs. Exits)')\n",
        "plt.xlabel('Status')\n",
        "plt.ylabel('Count')\n",
        "\n",
        "# Customize x-axis labels\n",
        "plt.xticks([0, 1], ['Stays', 'Exits'], rotation=0)\n",
        "\n",
        "# Display the plot\n",
        "plt.show()"
      ],
      "metadata": {
        "id": "-BOw4wkoPChp"
      },
      "execution_count": null,
      "outputs": []
    },
    {
      "cell_type": "code",
      "source": [
        "#plotting the following features: Age, IsActiveMember, CreditScore, NumOfProducts and Balance:\n",
        "\n",
        "g = sns.pairplot(data, hue='Exited',\n",
        "                 vars=['Age', 'CreditScore', 'IsActiveMember', 'NumOfProducts', 'Balance'],\n",
        "                 palette={0 : 'green',\n",
        "                          1 : 'red'},\n",
        "                 plot_kws={'alpha' : 0.8, 'edgecolor' : 'b', 'linewidth' : 0.5})\n",
        "\n",
        "fig = g.fig\n",
        "fig.subplots_adjust(top=0.95, wspace=0.2)\n",
        "fig.suptitle('Plot by \"Exited\" Classes',\n",
        "             fontsize=14,\n",
        "             fontweight='bold')\n",
        "\n",
        "# Updating the legend\n",
        "new_title = 'Churn Risk'\n",
        "g._legend.set_title(new_title)\n",
        "# replacing the labels\n",
        "new_labels = ['Stays', 'Exits']\n",
        "for t, l in zip(g._legend.texts, new_labels):\n",
        "    t.set_text(l)\n",
        "\n",
        "plt.show()"
      ],
      "metadata": {
        "id": "_7dprJbPKVJp"
      },
      "execution_count": null,
      "outputs": []
    },
    {
      "cell_type": "code",
      "source": [
        "plt.figure(figsize=(10,10))\n",
        "sns.heatmap(data=data.corr(), annot=True)\n",
        "plt.show()"
      ],
      "metadata": {
        "id": "cQvY4lMHM14A"
      },
      "execution_count": null,
      "outputs": []
    },
    {
      "cell_type": "code",
      "source": [
        "# Encode categorical variables (Gender and Geography)\n",
        "label_encoder = LabelEncoder()\n",
        "data['Gender'] = label_encoder.fit_transform(data['Gender'])\n",
        "data = pd.get_dummies(data, columns=['Geography'], drop_first=True)"
      ],
      "metadata": {
        "id": "wbjw6gXH86ll"
      },
      "execution_count": null,
      "outputs": []
    },
    {
      "cell_type": "code",
      "source": [
        "# Split data into features (X) and the target variable (y)\n",
        "X = data.drop(columns=['Exited'])\n",
        "y = data['Exited']"
      ],
      "metadata": {
        "id": "yf3i_s039CPm"
      },
      "execution_count": null,
      "outputs": []
    },
    {
      "cell_type": "code",
      "source": [
        "# Split the data into training and testing sets\n",
        "X_train, X_test, y_train, y_test = train_test_split(X, y, test_size=0.2, random_state=42)"
      ],
      "metadata": {
        "id": "BOp5lET89DQM"
      },
      "execution_count": null,
      "outputs": []
    },
    {
      "cell_type": "code",
      "source": [
        "# Feature Scaling\n",
        "scaler = StandardScaler()\n",
        "X_train = scaler.fit_transform(X_train)\n",
        "X_test = scaler.transform(X_test)"
      ],
      "metadata": {
        "id": "hp1nTE7K9DVu"
      },
      "execution_count": null,
      "outputs": []
    },
    {
      "cell_type": "code",
      "source": [
        "\n",
        "# Model Selection and Training\n",
        "logistic_regression_model = LogisticRegression(random_state=42)\n",
        "logistic_regression_model.fit(X_train, y_train)"
      ],
      "metadata": {
        "id": "8THzQPHK9YT0"
      },
      "execution_count": null,
      "outputs": []
    },
    {
      "cell_type": "code",
      "source": [
        "# Model Evaluation\n",
        "y_pred = logistic_regression_model.predict(X_test)\n",
        "accuracy = accuracy_score(y_test, y_pred)\n",
        "conf_matrix = confusion_matrix(y_test, y_pred)"
      ],
      "metadata": {
        "id": "m4AaH5U39ert"
      },
      "execution_count": null,
      "outputs": []
    },
    {
      "cell_type": "code",
      "source": [
        "\n",
        "print(\"Accuracy:\", accuracy)\n",
        "print(\"Confusion Matrix:\")\n",
        "print(conf_matrix)\n",
        "print(classification_report(y_test, y_pred))"
      ],
      "metadata": {
        "id": "Qq-akYZn9nm-"
      },
      "execution_count": null,
      "outputs": []
    },
    {
      "cell_type": "code",
      "source": [
        "\n",
        "\n",
        "# Model Evaluation\n",
        "accuracy = accuracy_score(y_test, y_pred)\n",
        "roc_auc = roc_auc_score(y_test, y_pred)\n",
        "precision = precision_score(y_test, y_pred)\n",
        "f1 = f1_score(y_test, y_pred)\n",
        "confusion = confusion_matrix(y_test, y_pred)\n",
        "\n",
        "print(f\"Accuracy: {accuracy*100:.2f}%\")\n",
        "print(f\"ROC AUC: {roc_auc*100:.2f}%\")\n",
        "print(f\"Precision: {precision*100:.2f}%\")\n",
        "print(f\"F1 Score: {f1*100:.2f}%\")\n",
        "print(\"Confusion Matrix:\")\n",
        "print(confusion)"
      ],
      "metadata": {
        "id": "CTOqBwLAEgmt"
      },
      "execution_count": null,
      "outputs": []
    },
    {
      "cell_type": "code",
      "source": [
        "# Make Predictions\n",
        "new_data = pd.DataFrame({\n",
        "    'CreditScore': [600],\n",
        "     'Gender': [0],  # 0 for Female, 1 for Male\n",
        "     'Age': [40],\n",
        "     'Tenure': [3],\n",
        "     'Balance': [60000],\n",
        "     'NumOfProducts': [2],\n",
        "     'HasCrCard': [1],\n",
        "     'IsActiveMember': [1],\n",
        "     'EstimatedSalary': [50000],\n",
        "     'Geography_Germany': [1],  # 1 if customer is from Germany, 0 otherwise\n",
        "     'Geography_Spain': [0]  # 1 if customer is from Spain, 0 otherwise\n",
        " })\n",
        "New_data = scaler.transform(new_data)\n",
        "#Please make sure to replace 'bank_churn_data.csv' with the actual path to your dataset file. Also, adjust the input features and values when making predictions for new data."
      ],
      "metadata": {
        "id": "2smZxhPO_Rf4"
      },
      "execution_count": null,
      "outputs": []
    },
    {
      "cell_type": "code",
      "source": [
        "prediction = logistic_regression_model.predict(new_data)"
      ],
      "metadata": {
        "id": "auJL7UBlAevo"
      },
      "execution_count": null,
      "outputs": []
    },
    {
      "cell_type": "code",
      "source": [
        "print(\"Churn Prediction for New Data:\", prediction[0])"
      ],
      "metadata": {
        "id": "fyABx0ZEAmXJ"
      },
      "execution_count": null,
      "outputs": []
    },
    {
      "cell_type": "markdown",
      "source": [],
      "metadata": {
        "id": "-C8li3oDYfwu"
      }
    }
  ]
}